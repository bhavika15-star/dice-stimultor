{
  "nbformat": 4,
  "nbformat_minor": 0,
  "metadata": {
    "colab": {
      "name": "Untitled7.ipynb",
      "provenance": []
    },
    "kernelspec": {
      "name": "python3",
      "display_name": "Python 3"
    },
    "language_info": {
      "name": "python"
    }
  },
  "cells": [
    {
      "cell_type": "code",
      "metadata": {
        "colab": {
          "base_uri": "https://localhost:8080/"
        },
        "id": "UcUehb6sJr9v",
        "outputId": "b4112672-44ad-4a1a-b865-a2dc93d73f9f"
      },
      "source": [
        "import random\n",
        "print(\"This is a dice stimulator\")\n",
        "x=\"y\"\n",
        "while x==\"y\":\n",
        "  number=random.randint(1,6)\n",
        "  if number== 1:\n",
        "   print(\"----------\")\n",
        "   print(\"|         |\")\n",
        "   print(\"|   O     |\")\n",
        "   print(\"|         |\")\n",
        "   print(\"-----------\")\n",
        "\n",
        "  if number== 2:\n",
        "   print(\"----------\")\n",
        "   print(\"|         |\")\n",
        "   print(\"|O       O|\")\n",
        "   print(\"|         |\")\n",
        "   print(\"-----------\")\n",
        "\n",
        "  if number== 3:\n",
        "   print(\"----------\")\n",
        "   print(\"|    O    |\")\n",
        "   print(\"|    O    |\")\n",
        "   print(\"|    O    |\")\n",
        "   print(\"-----------\")\n",
        "\n",
        "  if number== 4:\n",
        "   print(\"----------\")\n",
        "   print(\"|O       O|\")\n",
        "   print(\"|         |\")\n",
        "   print(\"|O       O|\")\n",
        "   print(\"-----------\")\n",
        "\n",
        "  if number== 5:\n",
        "   print(\"----------\")\n",
        "   print(\"|O       O|\")\n",
        "   print(\"|    O    |\")\n",
        "   print(\"|O       O|\")\n",
        "   print(\"-----------\")\n",
        "\n",
        "  if number== 6:\n",
        "   print(\"-----------\")\n",
        "   print(\"|O        O|\")\n",
        "   print(\"|O        O|\")\n",
        "   print(\"|O        O|\")\n",
        "   print(\"-----------\")\n",
        "  x=input(\"Press y to roll again \")\n"
      ],
      "execution_count": 36,
      "outputs": [
        {
          "output_type": "stream",
          "text": [
            "This is a dice stimulator\n",
            "-----------\n",
            "|O        O|\n",
            "|O        O|\n",
            "|O        O|\n",
            "-----------\n",
            "Press y to roll again y\n",
            "----------\n",
            "|O       O|\n",
            "|         |\n",
            "|O       O|\n",
            "-----------\n",
            "Press y to roll again y\n",
            "----------\n",
            "|    O    |\n",
            "|    O    |\n",
            "|    O    |\n",
            "-----------\n",
            "Press y to roll again n\n"
          ],
          "name": "stdout"
        }
      ]
    }
  ]
}